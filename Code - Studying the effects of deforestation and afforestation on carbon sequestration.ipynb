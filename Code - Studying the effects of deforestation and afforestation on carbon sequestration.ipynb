{
 "cells": [
  {
   "cell_type": "code",
   "execution_count": 1,
   "id": "c0c0dc28",
   "metadata": {},
   "outputs": [],
   "source": [
    "import geemap\n",
    "import ee\n",
    "import shapefile"
   ]
  },
  {
   "cell_type": "code",
   "execution_count": 2,
   "id": "2ec9715e",
   "metadata": {},
   "outputs": [],
   "source": [
    "#ee.Authenticate()"
   ]
  },
  {
   "cell_type": "code",
   "execution_count": 3,
   "id": "09cd9d19",
   "metadata": {},
   "outputs": [],
   "source": [
    "# Initialize Earth Engine\n",
    "geemap.ee_initialize()"
   ]
  },
  {
   "cell_type": "code",
   "execution_count": 4,
   "id": "5c442be9",
   "metadata": {},
   "outputs": [],
   "source": [
    "# Create an interactive map\n",
    "Map = geemap.Map()\n",
    "\n",
    "# Add a basemap\n",
    "Map.add_basemap('HYBRID')"
   ]
  },
  {
   "cell_type": "code",
   "execution_count": 5,
   "id": "848d0dbb",
   "metadata": {},
   "outputs": [],
   "source": [
    "sf = shapefile.Reader('Uttarakhand/Uttarakhand.shp')\n",
    "feature = sf.shapeRecords()[0]  # Assuming there is only one feature in the shapefile\n",
    "aoi = ee.Geometry.Polygon(feature.shape.__geo_interface__['coordinates'])\n",
    "#print(aoi)"
   ]
  },
  {
   "cell_type": "code",
   "execution_count": 6,
   "id": "b9a74aa7",
   "metadata": {},
   "outputs": [],
   "source": [
    "# Load Global Forest Change data\n",
    "gfc = ee.Image(\"UMD/hansen/global_forest_change_2020_v1_8\").clip(aoi)\n",
    "\n",
    "# Select bands\n",
    "treecover2000 = gfc.select('treecover2000')\n",
    "loss = gfc.select('loss')\n",
    "gain = gfc.select('gain')"
   ]
  },
  {
   "cell_type": "code",
   "execution_count": 7,
   "id": "45a6a290",
   "metadata": {},
   "outputs": [],
   "source": [
    "# Create a mask for forest areas in 2000\n",
    "forest2000 = treecover2000.gte(30)\n",
    "\n",
    "# Create a mask for forest loss from 2001 to 2020\n",
    "loss01_20 = loss.eq(1)\n",
    "\n",
    "# Create a mask for forest gain from 2001 to 2020\n",
    "gain01_20 = gain.eq(1)\n",
    "\n",
    "# Create a mask for afforestation from 2001 to 2020\n",
    "afforestation01_20 = gain01_20.And(forest2000.Not())\n",
    "\n",
    "# Create a mask for deforestation from 2001 to 2020\n",
    "deforestation01_20 = loss01_20.And(forest2000)"
   ]
  },
  {
   "cell_type": "code",
   "execution_count": 8,
   "id": "c82d3fa1",
   "metadata": {},
   "outputs": [],
   "source": [
    "# Calculate carbon sequestration potential\n",
    "carbon_sequestration_afforestation = afforestation01_20.multiply(10)  \n",
    "carbon_sequestration_deforestation = deforestation01_20.multiply(-10)  "
   ]
  },
  {
   "cell_type": "code",
   "execution_count": 9,
   "id": "434bbfc1",
   "metadata": {},
   "outputs": [],
   "source": [
    "# Calculate net carbon sequestration (afforestation - deforestation)\n",
    "net_carbon_sequestration = carbon_sequestration_afforestation.add(carbon_sequestration_deforestation)"
   ]
  },
  {
   "cell_type": "code",
   "execution_count": 10,
   "id": "ceed74f0",
   "metadata": {},
   "outputs": [
    {
     "name": "stderr",
     "output_type": "stream",
     "text": [
      "No such comm: 32904196dc24463f8da80fac26464593\n",
      "No such comm: 32904196dc24463f8da80fac26464593\n",
      "No such comm: 32904196dc24463f8da80fac26464593\n",
      "No such comm: 32904196dc24463f8da80fac26464593\n",
      "No such comm: 32904196dc24463f8da80fac26464593\n",
      "No such comm: 32904196dc24463f8da80fac26464593\n",
      "No such comm: 32904196dc24463f8da80fac26464593\n",
      "No such comm: 32904196dc24463f8da80fac26464593\n",
      "No such comm: 32904196dc24463f8da80fac26464593\n",
      "No such comm: 32904196dc24463f8da80fac26464593\n"
     ]
    },
    {
     "data": {
      "application/vnd.jupyter.widget-view+json": {
       "model_id": "f72b5293685a4155b11fe91f8a696a12",
       "version_major": 2,
       "version_minor": 0
      },
      "text/plain": [
       "Map(center=[29.881332611704394, 77.9961229718262], controls=(WidgetControl(options=['position', 'transparent_b…"
      ]
     },
     "execution_count": 10,
     "metadata": {},
     "output_type": "execute_result"
    }
   ],
   "source": [
    "# Define a color palette for the carbon sequestration map\n",
    "carbon_palette = ['red', 'white', 'green']\n",
    "\n",
    "# Add the aoi and net carbon sequestration layer to the map with the color palette\n",
    "#Map.addLayer(aoi, {'color': 'blue'}, 'Study Area')\n",
    "Map.addLayer(net_carbon_sequestration, {'min':-100, 'max': 100, 'palette': carbon_palette, 'opacity': 0.5}, 'Net Carbon Sequestration')\n",
    "\n",
    "# Highlight Loss and Gain layers\n",
    "Map.addLayer(loss01_20.mask(loss01_20), {'palette': 'FF0000'}, 'Loss')\n",
    "Map.addLayer(gain01_20.mask(gain01_20), {'palette': '00FF00'}, 'Gain')\n",
    "\n",
    "# Center the map on the specified latitude and longitude\n",
    "Map.centerObject(aoi, 10)\n",
    "legend_dict = { \"Loss\": \"#FF0000\", \"Neutral\": \"#FF000000\", \"Gain\": \"#00FF00\" }\n",
    "Map.addLayerControl()\n",
    "Map.add_legend(legend_dict=legend_dict)\n",
    "\n",
    "# Display the map\n",
    "Map"
   ]
  },
  {
   "cell_type": "code",
   "execution_count": 11,
   "id": "9458dd03",
   "metadata": {},
   "outputs": [
    {
     "name": "stdout",
     "output_type": "stream",
     "text": [
      "Total Carbon Sequestration: {'gain': 9355.764705882353}\n",
      "Area of Afforestation in m2: {'gain': 2691}\n",
      "Area of Deforestation in m2: {'loss': 16358.784313725491}\n",
      "Afforestation Rate (m2/yr): 122.31818181818181\n",
      "Deforestation Rate (m2/yr): 743.5811051693405\n"
     ]
    }
   ],
   "source": [
    "# Calculate the total and average net carbon sequestration\n",
    "total_carbon_sequestration = net_carbon_sequestration.reduceRegion(reducer=ee.Reducer.sum(), geometry=aoi, scale=30)\n",
    "\n",
    "# Calculate area of afforestation and deforestation\n",
    "area_afforestation = gain01_20.reduceRegion(reducer=ee.Reducer.sum(), geometry=aoi, scale=30)\n",
    "area_deforestation = loss01_20.reduceRegion(reducer=ee.Reducer.sum(), geometry=aoi, scale=30)\n",
    "\n",
    "# Calculate annual rates of afforestation and deforestation\n",
    "years = 22\n",
    "afforestation_rate = area_afforestation.get(\"gain\").getInfo() / (years)  \n",
    "deforestation_rate = area_deforestation.get(\"loss\").getInfo() / (years) \n",
    "\n",
    "# Print the calculated statistics\n",
    "print(\"Total Carbon Sequestration:\", total_carbon_sequestration.getInfo())\n",
    "print(\"Area of Afforestation in m2:\", area_afforestation.getInfo())\n",
    "print(\"Area of Deforestation in m2:\", area_deforestation.getInfo())\n",
    "print(\"Afforestation Rate (m2/yr):\", afforestation_rate)\n",
    "print(\"Deforestation Rate (m2/yr):\", deforestation_rate)"
   ]
  },
  {
   "cell_type": "code",
   "execution_count": null,
   "id": "364c117f",
   "metadata": {},
   "outputs": [],
   "source": []
  },
  {
   "cell_type": "code",
   "execution_count": null,
   "id": "3da22afd",
   "metadata": {},
   "outputs": [],
   "source": []
  }
 ],
 "metadata": {
  "kernelspec": {
   "display_name": "Python 3 (ipykernel)",
   "language": "python",
   "name": "python3"
  },
  "language_info": {
   "codemirror_mode": {
    "name": "ipython",
    "version": 3
   },
   "file_extension": ".py",
   "mimetype": "text/x-python",
   "name": "python",
   "nbconvert_exporter": "python",
   "pygments_lexer": "ipython3",
   "version": "3.11.3"
  }
 },
 "nbformat": 4,
 "nbformat_minor": 5
}
